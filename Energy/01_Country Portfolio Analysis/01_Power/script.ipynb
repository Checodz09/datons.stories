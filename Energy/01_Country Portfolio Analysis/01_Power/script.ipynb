{
 "cells": [
  {
   "cell_type": "markdown",
   "id": "1613a07a",
   "metadata": {},
   "source": [
    "# Installed Power Capacity and Energy Generation by Technology in Spain\n",
    "\n",
    "Analyzing the balance between potential and actual energy production of Spain's energy portfolio.\n",
    "\n",
    "<div class=\"alert alert-info\">\n",
    "    <strong>Tags:</strong> Energy | Python | Data Visualization | Data Analytics | Data Science\n",
    "</div>"
   ]
  },
  {
   "attachments": {},
   "cell_type": "markdown",
   "id": "35241ca7",
   "metadata": {},
   "source": [
    "<figure>\n",
    "    <img width=\"500px\" src=\"http://d1n5ro6hvutr5y.cloudfront.net/Energy/01_Country Portfolio Analysis/01_Capacity/en/cover.gif\" alt=\"Cover.\">\n",
    "    <figcaption>Cover. Creating Plots from Dataset</figcaption>\n",
    "</figure>"
   ]
  },
  {
   "attachments": {},
   "cell_type": "markdown",
   "id": "a85072f6",
   "metadata": {
    "tags": [
     "premise"
    ]
   },
   "source": [
    "## Premise\n",
    "\n",
    "With the global transition towards renewable energy and the pressing need to reduce carbon emissions, understanding the energy capacities and the mix of technologies in play is crucial. Spain, with its varied landscape, offers an excellent opportunity to study the balance between renewable and non-renewable energy sources. This article dives deep into the installed power capacity of various energy technologies in Spain, analyzing the potential, demand, and efficiency of each."
   ]
  },
  {
   "attachments": {},
   "cell_type": "markdown",
   "id": "94e8a7ab",
   "metadata": {
    "tags": [
     "data"
    ]
   },
   "source": [
    "## Data\n",
    "\n",
    "Each row of the following dataset represents the energy (electricity) that different technologies, such as [**Hydroelectric**](https://www.iberdrola.com/about-us/what-we-do/hydroelectric-power), [**Combined Cycle**](https://www.bbe.es/en/technical-description/introduction/), and [**Nuclear**](https://energia.gob.es/nuclear/Centrales/Espana/Paginas/CentralesEspana.aspx), generate per hour in one year.\n",
    "\n",
    "> The data is provided by Red Eléctrica de España (REE), Spain's Grid Operator, via **ESIOS API**. Learn how to download the data automatically with [this video](https://www.loom.com/share/b9f8c9c398124853912120caf7e37c6a)."
   ]
  },
  {
   "cell_type": "markdown",
   "id": "c4bdafe2",
   "metadata": {},
   "source": [
    "<figure>\n",
    "    <img width=\"500px\" src=\"http://d1n5ro6hvutr5y.cloudfront.net/Energy/01_Country Portfolio Analysis/01_Capacity/en/01_df.png\" alt=\"(Dataset)\">\n",
    "    <figcaption>Figure 1. (Dataset) Energy generation in Spain for one year</figcaption>\n",
    "</figure>"
   ]
  },
  {
   "cell_type": "code",
   "execution_count": null,
   "id": "52ded2c7",
   "metadata": {},
   "outputs": [],
   "source": []
  },
  {
   "attachments": {},
   "cell_type": "markdown",
   "id": "bd6d52cc-6c38-4a4f-87e5-a67be15a05bf",
   "metadata": {
    "tags": [
     "questions"
    ]
   },
   "source": [
    "## Questions\n",
    "\n",
    "- How has Spain's energy mix evolved over the past decade?\n",
    "- What percentage of Spain's energy comes from renewable sources?\n",
    "- Are renewable energies capable of meeting Spain's energy demand on their own?\n",
    "- What challenges do renewable energies pose in terms of reliability and consistency?\n",
    "- Which energy technology makes the most efficient use of its installed capacity?"
   ]
  },
  {
   "cell_type": "markdown",
   "id": "4ee84721",
   "metadata": {
    "tags": [
     "CTA-1"
    ]
   },
   "source": [
    "> Learn how to produce the data analysis report of this article.\n",
    "> \n",
    "> <a href=\"https://datons.gumroad.com/l/energy-generation-by-technology-in-spain\"><button>Access Tutorial</button></a>"
   ]
  },
  {
   "attachments": {},
   "cell_type": "markdown",
   "id": "dc9a797c",
   "metadata": {},
   "source": [
    "## Analysis"
   ]
  },
  {
   "attachments": {},
   "cell_type": "markdown",
   "id": "0c139dc3",
   "metadata": {},
   "source": [
    "### Installed Power Capacity\n",
    "\n",
    "How much electricity could Spain generate during any given hour?\n",
    "\n",
    "[Spain has an installed power capacity of 119 GWh](https://www.sistemaelectrico-ree.es/informe-del-sistema-electrico/generacion/potencia-instalada), according to the official grid operator *Red Eléctrica España (REE)*.\n",
    "\n",
    "> **61% of energy comes from renewable sources** such as Eolic and Photovoltaic Solar."
   ]
  },
  {
   "cell_type": "markdown",
   "id": "9ff1ec7b",
   "metadata": {},
   "source": [
    "<figure>\n",
    "    <img width=\"500px\" src=\"http://d1n5ro6hvutr5y.cloudfront.net/Energy/01_Country Portfolio Analysis/01_Capacity/en/02_plot_power.png\" alt=\"Installed\">\n",
    "    <figcaption>Figure 2. Installed power capacity by technology in Spain (2022-12) | <a href=\"https://plotly.com/~jsulopzs/326/\">Interactive Chart</a></figcaption>\n",
    "</figure>"
   ]
  },
  {
   "attachments": {},
   "cell_type": "markdown",
   "id": "e63a2504",
   "metadata": {},
   "source": [
    "### Energy Hourly Demand Distribution\n",
    "\n",
    "Nevertheless, Spain doesn't need 119 GWh in any hour; the minimum and maximum electricity demand for any given hour is 16 and 44 GWh, respectively, with an average of 30.\n",
    "\n",
    "> For the following explanations, 30 GWh will be the baseline reference for any given hour."
   ]
  },
  {
   "cell_type": "markdown",
   "id": "e5a2b7bc",
   "metadata": {},
   "source": [
    "<figure>\n",
    "    <img width=\"500px\" src=\"http://d1n5ro6hvutr5y.cloudfront.net/Energy/01_Country Portfolio Analysis/01_Capacity/en/03_plot_distribution.png\" alt=\"Distribution\">\n",
    "    <figcaption>Figure 3. Distribution of hourly energy generation in Spain | <a href=\"https://plotly.com/~jsulopzs/328/\">Interactive Chart</a></figcaption>\n",
    "</figure>"
   ]
  },
  {
   "attachments": {},
   "cell_type": "markdown",
   "id": "180a52fd",
   "metadata": {},
   "source": [
    "### Only Renewable Energy Generation?\n",
    "\n",
    "Based on installed power capacity, Eolic (29 GWh) could generate the demand of a complete hour without any other technology involved.\n",
    "\n",
    "Unfortunately, since the wind does not always blow, Eolic energy cannot have exclusivity; more energy sources are required, both renewable and non-renewable.\n",
    "\n",
    "Why is it not enough to rely on renewable energy sources?\n",
    "\n",
    "They are unstable: generating renewable energy sources is not always guaranteed due to climatological conditions.\n",
    "\n",
    "For example, if the wind stops blowing, the Eolic energy generation will be zero.\n",
    "\n",
    "A concrete example: what happens if a Photovoltaic Solar plant in Seville is expected to generate 1 GWh in the next hour, and some clouds suddenly make it impossible? Which energy source could be the alternative?\n",
    "\n",
    "Combined Cycle (26GWh) is a viable option because it generates electricity from gas. This gas-based generation provides a consistent and dispatchable power source, ensuring the grid always has available electricity without risking oversupply or undersupply.\n",
    "\n",
    "In conclusion, renewable and non-renewable energy sources must dance with one another to guarantee the grid's stability and safety."
   ]
  },
  {
   "cell_type": "markdown",
   "id": "4c99c7c5",
   "metadata": {},
   "source": [
    "<figure>\n",
    "    <img width=\"500px\" src=\"http://d1n5ro6hvutr5y.cloudfront.net/Energy/01_Country Portfolio Analysis/01_Capacity/en/04_plot_daily.png\" alt=\"Hourly\">\n",
    "    <figcaption>Figure 4. Hourly average of the energy generation mix in Spain | <a href=\"https://plotly.com/~jsulopzs/330/\">Interactive Chart</a></figcaption>\n",
    "</figure>"
   ]
  },
  {
   "attachments": {},
   "cell_type": "markdown",
   "id": "f9b6695a",
   "metadata": {},
   "source": [
    "### Utilization Ratio by Technology\n",
    "\n",
    "If all the energy from each technology cannot be used at the same time, which one of them takes more advantage of their installed power capacity?\n",
    "\n",
    "Based on the ratio of actual energy generated to the maximum potential energy that could be produced in a year, Nuclear energy emerges as the most efficient, with a ratio of 0.89.\n",
    "\n",
    "> The maximum potential energy is calculated with the maximum generation of technology per hour and multiplied by the number of days within the sample."
   ]
  },
  {
   "cell_type": "markdown",
   "id": "227fc406",
   "metadata": {},
   "source": [
    "<figure>\n",
    "    <img width=\"500px\" src=\"http://d1n5ro6hvutr5y.cloudfront.net/Energy/01_Country Portfolio Analysis/01_Capacity/en/05_plot_usage.png\" alt=\"\">\n",
    "    <figcaption>Figure 5.  | <a href=\"https://plotly.com/~jsulopzs/332/\">Interactive Chart</a></figcaption>\n",
    "</figure>"
   ]
  },
  {
   "attachments": {},
   "cell_type": "markdown",
   "id": "ad6da0d7",
   "metadata": {
    "tags": [
     "conclusion"
    ]
   },
   "source": [
    "## Conclusion\n",
    "\n",
    "Spain's current energy landscape reveals a notable mix of renewable and non-renewable energy sources, each contributing distinct advantages and challenges to the power grid. While renewable sources such as Eolic energy have substantial installed capacities, their variability based on climatic conditions necessitates a complementary role from non-renewable sources like Combined Cycle to ensure consistent energy availability. The data also underscores the importance of Nuclear energy in terms of utilization efficiency, given its high ratio of actual to potential energy generation. Such insights highlight the complexity and intricacy of managing a national power grid with diverse energy sources."
   ]
  },
  {
   "attachments": {},
   "cell_type": "markdown",
   "id": "9996680d",
   "metadata": {
    "tags": [
     "CTA-2"
    ]
   },
   "source": [
    "## Next Steps\n",
    "\n",
    "### Tutorial\n",
    "\n",
    "Power your professional career with programming and data analysis.\n",
    "\n",
    "<a href=\"https://datons.gumroad.com/l/energy-generation-by-technology-in-spain\"><button>Learn Data Programming</button></a>\n",
    "\n",
    "### `datons.stories`\n",
    "\n",
    "Learn how the world works with data stories.\n",
    "\n",
    "<a href=\"https://bootcamps.datons.ai/stories\"><button>More Information</button></a>"
   ]
  }
 ],
 "metadata": {
  "Author": "Jesús López",
  "Company": "www.datons.ai",
  "Copyright": "© 2023 Jesús López",
  "kernelspec": {
   "display_name": "Python 3 (ipykernel)",
   "language": "python",
   "name": "python3"
  },
  "language_info": {
   "codemirror_mode": {
    "name": "ipython",
    "version": 3
   },
   "file_extension": ".py",
   "mimetype": "text/x-python",
   "name": "python",
   "nbconvert_exporter": "python",
   "pygments_lexer": "ipython3",
   "version": "3.11.3"
  }
 },
 "nbformat": 4,
 "nbformat_minor": 5
}
