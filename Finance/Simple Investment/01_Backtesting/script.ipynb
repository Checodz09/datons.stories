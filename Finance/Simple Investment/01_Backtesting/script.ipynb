{
 "cells": [
  {
   "attachments": {},
   "cell_type": "markdown",
   "id": "495c13af",
   "metadata": {},
   "source": [
    "# Visual Introduction to Algorithmic Trading\n",
    "\n",
    "Learn how to evaluate investment strategies with a practical example based on the Apple stock price history. How does Buy & Hold compare to Simple Moving Average Crossover?\n",
    "\n",
    "<div class=\"alert alert-info\">\n",
    "    <strong>Tags:</strong> Algorithmic Trading | Financial Analysis | Investment | Apple | Data Visualization\n",
    "</div>"
   ]
  },
  {
   "attachments": {},
   "cell_type": "markdown",
   "id": "f012542c",
   "metadata": {
    "tags": [
     "canonical-url"
    ]
   },
   "source": [
    "<link rel=\"canonical\" href=\"https://www.datons.ai/visual-introduction-to-algorithmic-trading\"/>\n",
    "\n",
    "Visit the [original article](https://www.datons.ai/visual-introduction-to-algorithmic-trading) for an optimal reading experience."
   ]
  },
  {
   "attachments": {},
   "cell_type": "markdown",
   "id": "35241ca7",
   "metadata": {},
   "source": [
    "<figure>\n",
    "    <img width=\"500px\" src=\"http://d1n5ro6hvutr5y.cloudfront.net/Finance/Simple Investment/Backtesting/en/cover.gif\" alt=\"Cover. Creating plots from dataset\">\n",
    "    <figcaption>Cover. Creating plots from dataset</figcaption>\n",
    "</figure>"
   ]
  },
  {
   "attachments": {},
   "cell_type": "markdown",
   "id": "e72c37b2",
   "metadata": {},
   "source": [
    "## Questions\n",
    "\n",
    "- How does the stock market data look like?\n",
    "- How has Apple's stock performed over the last few years?\n",
    "- Which technique can be used to evaluate the performance of a stock?\n",
    "- What can we infer from the Buy & Hold strategy applied to Apple's stock?\n",
    "- What does the Simple Moving Average (SMA) Crossover strategy indicate for potential investors?\n",
    "- Which measure can be used to evaluate the performance of a trading strategy?"
   ]
  },
  {
   "attachments": {},
   "cell_type": "markdown",
   "id": "4fd4eb5b",
   "metadata": {
    "tags": [
     "cta-1"
    ]
   },
   "source": [
    "> While you read this article, remember that you can learn how to program the analysis and visualizations you see with our <strong><a href=\"https://academy.datons.ai/c/tutorials\">step-by-step programming tutorials</a></strong>."
   ]
  },
  {
   "attachments": {},
   "cell_type": "markdown",
   "id": "a85072f6",
   "metadata": {
    "tags": [
     "premise"
    ]
   },
   "source": [
    "## Premise\n",
    "\n",
    "In today's fast-paced financial world, understanding stock market movements and making informed investment decisions is paramount.\n",
    "\n",
    "Through the analysis of Apple's stock data, we'll explore investment techniques, SMA crossovers, and backtesting methodologies. \n",
    "\n",
    "This article aims to provide clarity on these strategies and guide investors in making data-driven decisions."
   ]
  },
  {
   "attachments": {},
   "cell_type": "markdown",
   "id": "94e8a7ab",
   "metadata": {
    "tags": [
     "data"
    ]
   },
   "source": [
    "## Data\n",
    "\n",
    "The dataset under examination contains historical stock market OHLCV (Open, High, Low, Close, Volume) data for Apple. Each row represents trading data for a specific date, with columns detailing the opening, high, low, close prices, and volume of stocks traded.\n",
    "\n",
    "This data offers a comprehensive look into the stock's performance over time. The dataset was sourced from [yfinance](https://github.com/ranaroussi/yfinance), a popular library for extracting financial data."
   ]
  },
  {
   "attachments": {},
   "cell_type": "markdown",
   "id": "046d2ee0",
   "metadata": {},
   "source": [
    "<figure>\n",
    "    <img width=\"500px\" src=\"http://d1n5ro6hvutr5y.cloudfront.net/Finance/Simple Investment/Backtesting/en/01_df.png\" alt=\"Dataset. Historical stock market OHLCV from Apple\">\n",
    "    <figcaption>Dataset. Historical stock market OHLCV from Apple</figcaption>\n",
    "</figure>"
   ]
  },
  {
   "attachments": {},
   "cell_type": "markdown",
   "id": "dc9a797c",
   "metadata": {},
   "source": [
    "## Analysis"
   ]
  },
  {
   "attachments": {},
   "cell_type": "markdown",
   "id": "0c139dc3",
   "metadata": {
    "tags": [
     "analysis-1"
    ]
   },
   "source": [
    "### Buy & Hold Strategy\n",
    "\n",
    "The 'Buy & Hold' strategy, often considered the cornerstone of investing, advocates for purchasing stocks and holding onto them regardless of market volatility.\n",
    "\n",
    "The visualization presents Apple's stock closing prices since 2022. Alongside this, the cumulative return is charted in the secondary y-axis, showcasing an almost 10% profit an investor would have accrued had they purchased the stock and retained it.\n",
    "\n",
    "Had the investor cashed out in January 2023, they would have incurred a loss of 30%. This highlights the importance of timing when it comes to investing."
   ]
  },
  {
   "attachments": {},
   "cell_type": "markdown",
   "id": "9ff1ec7b",
   "metadata": {},
   "source": [
    "<figure>\n",
    "    <img width=\"500px\" src=\"http://d1n5ro6hvutr5y.cloudfront.net/Finance/Simple Investment/Backtesting/en/02_plot_buy-hold.png\" alt=\" \">\n",
    "    <figcaption>Figure 1. Apple stock price evolution over time | <a href=\"https://plotly.com/~jsulopzs/442/\">Interactive Chart</a></figcaption>\n",
    "</figure>"
   ]
  },
  {
   "attachments": {},
   "cell_type": "markdown",
   "id": "e63a2504",
   "metadata": {
    "tags": [
     "analysis-2"
    ]
   },
   "source": [
    "### Crossover\n",
    "\n",
    "The Simple Moving Average (SMA) Crossover technique is a popular stock market strategy. It involves two SMAs, one short (10 days in this case) and one long (20 days).\n",
    "\n",
    "When the short SMA(10) crosses above the long SMA(20), it's a buy signal, indicating a potential upward trend. Conversely, when the short SMA dips below the long, it's a sell signal, pointing towards a potential downward movement.\n",
    "\n",
    "The depicted chart vividly illustrates these crossover points, guiding potential buy and sell decisions."
   ]
  },
  {
   "attachments": {},
   "cell_type": "markdown",
   "id": "e5a2b7bc",
   "metadata": {},
   "source": [
    "<figure>\n",
    "    <img width=\"500px\" src=\"http://d1n5ro6hvutr5y.cloudfront.net/Finance/Simple Investment/Backtesting/en/03_plot_sma.png\" alt=\" \">\n",
    "    <figcaption>Figure 2. Investment strategy trades: Simple Moving Average Crossover | <a href=\"https://plotly.com/~jsulopzs/444/\">Interactive Chart</a></figcaption>\n",
    "</figure>"
   ]
  },
  {
   "attachments": {},
   "cell_type": "markdown",
   "id": "180a52fd",
   "metadata": {
    "tags": [
     "analysis-3"
    ]
   },
   "source": [
    "### Backtesting an Investment Strategy: SMA Crossover\n",
    "\n",
    "Backtesting is a crucial step before deploying any stock market strategy. Using historical data helps validate the strategy's potential profitability.\n",
    "\n",
    "In this segment, the SMA Crossover strategy is backtested, with results indicating its returns (6.69%) versus the traditional Buy & Hold (8.87%) approach."
   ]
  },
  {
   "attachments": {},
   "cell_type": "markdown",
   "id": "acae8f02",
   "metadata": {},
   "source": [
    "<figure>\n",
    "    <img width=\"500px\" src=\"http://d1n5ro6hvutr5y.cloudfront.net/Finance/Simple Investment/Backtesting/en/04_df_report.png\" alt=\"Backtesting basic report on investment strategy\">\n",
    "    <figcaption>Figure 3. Backtesting basic report on investment strategy</figcaption>\n",
    "</figure>"
   ]
  },
  {
   "attachments": {},
   "cell_type": "markdown",
   "id": "f9b6695a",
   "metadata": {
    "tags": [
     "analysis-4"
    ]
   },
   "source": [
    "In this case, the SMA Crossover strategy underperformed the Buy & Hold approach. However, this is not always the case because many factors influence the profitability of a strategy.\n",
    "\n",
    "At the end of the day, it's up to the investor to decide which strategy to pursue based on a variety of factors, including risk tolerance, time horizon, and investment goals. But those are topics for another day."
   ]
  },
  {
   "attachments": {},
   "cell_type": "markdown",
   "id": "3b78901c",
   "metadata": {},
   "source": [
    "Additionally, the following visualization provides a comprehensive overview of how the investment would have fared over time, juxtaposing the actual stock price with the hypothetical investment trajectory based on the SMA Crossover strategy.\n",
    "\n",
    "It indicates key metrics such as the equity curve, drawdown, and returns (profit/loss), providing a holistic view of the strategy's performance."
   ]
  },
  {
   "attachments": {},
   "cell_type": "markdown",
   "id": "d2627ac6",
   "metadata": {},
   "source": [
    "<figure>\n",
    "    <img width=\"500px\" src=\"http://d1n5ro6hvutr5y.cloudfront.net/Finance/Simple Investment/Backtesting/en/05_df_report.png\" alt=\"Backtest dashboard report on investment strategy\">\n",
    "    <figcaption>Figure 4. Backtest dashboard report on investment strategy</figcaption>\n",
    "</figure>"
   ]
  },
  {
   "attachments": {},
   "cell_type": "markdown",
   "id": "ad6da0d7",
   "metadata": {
    "tags": [
     "conclusion"
    ]
   },
   "source": [
    "## Conclusion\n",
    "\n",
    "Crafting stock market strategies and their implications is an art because of the many factors at play and the inherent volatility of the market.\n",
    "\n",
    "However, this article provides you with an initial study of historical data, combined with a deep understanding of techniques like Buy & Hold and SMA Crossover, which can offer clear insights about the stock's performance."
   ]
  },
  {
   "attachments": {},
   "cell_type": "markdown",
   "id": "9996680d",
   "metadata": {
    "tags": [
     "cta-2"
    ]
   },
   "source": [
    "## Datons Workshops\n",
    "\n",
    "Save time learning in our interactive workshops guided by an expert.\n",
    "\n",
    "<a href=\"https://updates.datons.ai/workshops\"><button>Explore Workshops</button></a>"
   ]
  }
 ],
 "metadata": {
  "Author": "Jesús López",
  "Company": "www.datons.ai",
  "Copyright": "© 2023 Jesús López",
  "canonical_url": "https://www.datons.ai/visual-introduction-to-algorithmic-trading",
  "kernelspec": {
   "display_name": "Python 3 (ipykernel)",
   "language": "python",
   "name": "python3"
  },
  "language_info": {
   "codemirror_mode": {
    "name": "ipython",
    "version": 3
   },
   "file_extension": ".py",
   "mimetype": "text/x-python",
   "name": "python",
   "nbconvert_exporter": "python",
   "pygments_lexer": "ipython3",
   "version": "3.12.0"
  }
 },
 "nbformat": 4,
 "nbformat_minor": 5
}
