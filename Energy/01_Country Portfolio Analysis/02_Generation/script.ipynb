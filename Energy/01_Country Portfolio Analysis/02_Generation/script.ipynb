{
 "cells": [
  {
   "attachments": {},
   "cell_type": "markdown",
   "id": "135c63c9",
   "metadata": {},
   "source": [
    "# Energy Generation Seasonality by Technology in Spain\n",
    "\n",
    "A detailed overview of Spain's yearly energy production by technology and time; both per hour and per month.\n",
    "\n",
    "<div class=\"alert alert-info\">\n",
    "    <strong>Tags:</strong> Energy | Python | Data Visualization | Data Analytics | Data Science\n",
    "</div>"
   ]
  },
  {
   "attachments": {},
   "cell_type": "markdown",
   "id": "35241ca7",
   "metadata": {},
   "source": [
    "<figure>\n",
    "    <img width=\"500px\" src=\"http://d1n5ro6hvutr5y.cloudfront.net/Energy/01_Country Portfolio Analysis/02_Generation/en/cover.gif\" alt=\"Cover. Creating plots from dataset\">\n",
    "    <figcaption>Cover. Creating plots from dataset</figcaption>\n",
    "</figure>"
   ]
  },
  {
   "attachments": {},
   "cell_type": "markdown",
   "id": "a85072f6",
   "metadata": {
    "tags": [
     "premise"
    ]
   },
   "source": [
    "## Premise\n",
    "\n",
    "In a world shifting towards sustainable energy sources, it's essential to understand how different energy technologies contribute to generating the electricity that reaches your house according to the weather seasons change over the months.\n",
    "\n",
    "This article explores the intricacies of Spain's energy generation, summarising the hourly contributions by technology, hour and month."
   ]
  },
  {
   "attachments": {},
   "cell_type": "markdown",
   "id": "5ee20309",
   "metadata": {
    "tags": [
     "questions"
    ]
   },
   "source": [
    "## Questions\n",
    "\n",
    "1. Which technology generates more energy in one year?\n",
    "2. Which month-hour requires more energy?\n",
    "3. How do technologies behave during the day?\n",
    "4. How does climate influence energy generation per month?\n",
    "5. How much energy does Solar power produce during summer vs. winter?"
   ]
  },
  {
   "attachments": {},
   "cell_type": "markdown",
   "id": "52df6c8d",
   "metadata": {
    "tags": [
     "cta-1"
    ]
   },
   "source": [
    "> Learn how to produce the data analysis report of this article.\n",
    "> \n",
    "> <a href=\"https://datons.gumroad.com/l/energy-generation-by-technology-in-spain\"><button>Access Tutorial</button></a>"
   ]
  },
  {
   "attachments": {},
   "cell_type": "markdown",
   "id": "94e8a7ab",
   "metadata": {
    "tags": [
     "data"
    ]
   },
   "source": [
    "## Data\n",
    "\n",
    "Each row of the following dataset represents the energy (electricity) that different technologies, such as [**Hydroelectric**](https://www.iberdrola.com/about-us/what-we-do/hydroelectric-power), [**Combined Cycle**](https://www.bbe.es/en/technical-description/introduction/), and [**Nuclear**](https://energia.gob.es/nuclear/Centrales/Espana/Paginas/CentralesEspana.aspx), generate per hour in one year.\n",
    "\n",
    "> The data is provided by Red Eléctrica de España (REE), Spain's Grid Operator, via **ESIOS API**. Learn how to download the data automatically with [this video](https://www.loom.com/share/b9f8c9c398124853912120caf7e37c6a)."
   ]
  },
  {
   "attachments": {},
   "cell_type": "markdown",
   "id": "e46361fa",
   "metadata": {},
   "source": [
    "<figure>\n",
    "    <img width=\"500px\" src=\"http://d1n5ro6hvutr5y.cloudfront.net/Energy/01_Country Portfolio Analysis/02_Generation/en/01_df_hourly-generation.png\" alt=\"Dataset. Hourly generation in Spain for one year\">\n",
    "    <figcaption>Dataset. Hourly generation in Spain for one year</figcaption>\n",
    "</figure>"
   ]
  },
  {
   "attachments": {},
   "cell_type": "markdown",
   "id": "dc9a797c",
   "metadata": {},
   "source": [
    "## Analysis"
   ]
  },
  {
   "attachments": {},
   "cell_type": "markdown",
   "id": "42d29199",
   "metadata": {
    "tags": [
     "analysis-1"
    ]
   },
   "source": [
    "### Ranking of Technologies\n",
    "\n",
    "Out of the **250M MWh of electricity Spain demands in a year, Eolic is the technology that generates more energy** year because it has a [greater power capacity than the rest, with almost 30GWh](https://www.sistemaelectrico-ree.es/informe-del-sistema-electrico/generacion/potencia-instalada).\n",
    "\n",
    "Why is Nuclear energy the second-highest technology?\n",
    "\n",
    "Nuclear power generates energy continuously, without stopping. **Each Nuclear plant generates 1,000 MWh**. Since [Spain has 7 nuclear plants](https://energia.gob.es/nuclear/Centrales/Espana/Paginas/CentralesEspana.aspx), approximately 7,000 MWh are guaranteed.\n",
    "\n",
    "> Nuclear plants sometimes stop during the year for maintenance operations.\n",
    "\n",
    "On the other hand, Eolic energy won't work if there is no wind, nor Solar energy if there is no sun during the hour."
   ]
  },
  {
   "attachments": {},
   "cell_type": "markdown",
   "id": "7f9f9c87",
   "metadata": {},
   "source": [
    "<figure>\n",
    "    <img width=\"500px\" src=\"http://d1n5ro6hvutr5y.cloudfront.net/Energy/01_Country Portfolio Analysis/02_Generation/en/02_plot_generation-technology-sum.png\" alt=\" \">\n",
    "    <figcaption>Figure 1. Yearly energy generation by technology in Spain | <a href=\"https://plotly.com/~jsulopzs/410/\">Interactive Chart</a></figcaption>\n",
    "</figure>"
   ]
  },
  {
   "attachments": {},
   "cell_type": "markdown",
   "id": "28c8566e",
   "metadata": {
    "tags": [
     "analysis-2"
    ]
   },
   "source": [
    "### Technology per Hour Behavior\n",
    "\n",
    "What is the average energy generated per technology per hour on any given day?\n",
    "\n",
    "Photovoltaic Solar energy generates more energy during sunlight hours (9-17) when Combined Cycle (Gas) is less active.\n",
    "\n",
    "Combined Cycle presents a variance among the top technologies, not explained by climatological reasons but by economic ones: their plants generate energy from **gas, whose storage ability plays a crucial role because you can fill up the required power that the climate cannot give (no sun, nor wind)**.\n",
    "\n",
    "> The market agents will carefully optimize the gas because [geopolitical tensions can cause shortages](https://www.iea.org/news/how-the-european-union-can-avoid-natural-gas-shortages-in-2023).\n",
    "\n",
    "During the night, [**Hydraulic energy works as a battery**](https://theconversation.com/batteries-get-hyped-but-pumped-hydro-provides-the-vast-majority-of-long-term-energy-storage-essential-for-renewable-power-heres-how-it-works-174446) to fill the energy the wind and sun cannot generate; you can let the water go down to produce power when the market consumers demand more electricity.\n",
    "\n",
    "Eolic achieves higher generation at night when [the wind is more potent](https://www.quora.com/Why-does-it-get-windier-at-night). During the day, it remains slightly consistent.\n",
    "\n",
    "Nuclear energy is almost perfectly consistent at each hour.\n",
    "\n",
    "> The hour range is reduced from 7 to 23 for simplicity."
   ]
  },
  {
   "attachments": {},
   "cell_type": "markdown",
   "id": "e131ba37",
   "metadata": {},
   "source": [
    "<figure>\n",
    "    <img width=\"500px\" src=\"http://d1n5ro6hvutr5y.cloudfront.net/Energy/01_Country Portfolio Analysis/02_Generation/en/03_df_style_technology-hour.png\" alt=\"Average energy generation (MWh) by technology-hour\">\n",
    "    <figcaption>Figure 2. Average energy generation (MWh) by technology-hour</figcaption>\n",
    "</figure>"
   ]
  },
  {
   "attachments": {},
   "cell_type": "markdown",
   "id": "0235c762",
   "metadata": {
    "tags": [
     "analysis-3"
    ]
   },
   "source": [
    "### Technology per Month\n",
    "\n",
    "\n",
    "Which technologies generate the most electricity each month?\n",
    "\n",
    "Combined Cycle not only reaches a peak itself during September and October, but also, during the whole month compared to the rest of technologies.\n",
    "\n",
    "From November to March (winter months), Eolic energy takes the lead due to a higher intensity of wind that propels the turbine blades of the aerogenerator.\n",
    "\n",
    "During summer months, Solar Photovoltaic generates most of its energy due to more hours of sun.\n",
    "\n",
    "Also, it is remarkable how Hydraulic energy produces more energy from December to February thanks to higher intensity rains, which pile up more water onto the dam."
   ]
  },
  {
   "attachments": {},
   "cell_type": "markdown",
   "id": "8b1cacdc",
   "metadata": {},
   "source": [
    "<figure>\n",
    "    <img width=\"500px\" src=\"http://d1n5ro6hvutr5y.cloudfront.net/Energy/01_Country Portfolio Analysis/02_Generation/en/04_df_style_technology-month.png\" alt=\"Total energy generation (MWh) by technology-month\">\n",
    "    <figcaption>Figure 3. Total energy generation (MWh) by technology-month</figcaption>\n",
    "</figure>"
   ]
  },
  {
   "attachments": {},
   "cell_type": "markdown",
   "id": "48b44250",
   "metadata": {
    "tags": [
     "analysis-4"
    ]
   },
   "source": [
    "### Total Energy by Month and Hour\n",
    "\n",
    "Two blocks of generation are visible: summer and winter.\n",
    "\n",
    "During winter more energy is required to warm the houses during the day.\n",
    "\n",
    "On the other hand, summer presents a high block of generation during July and August [because of the air conditioning](https://www.newtral.es/consumo-electricidad-verano-luz-precio/20230823/). During September, the generation decreases during the last hours of the day because the sun sets earlier and the air conditioning is not required."
   ]
  },
  {
   "attachments": {},
   "cell_type": "markdown",
   "id": "8436c5a3",
   "metadata": {},
   "source": [
    "<figure>\n",
    "    <img width=\"500px\" src=\"http://d1n5ro6hvutr5y.cloudfront.net/Energy/01_Country Portfolio Analysis/02_Generation/en/05_df_style_month-hour.png\" alt=\"Total energy generation (TWh) by month-hour\">\n",
    "    <figcaption>Figure 4. Total energy generation (TWh) by month-hour</figcaption>\n",
    "</figure>"
   ]
  },
  {
   "attachments": {},
   "cell_type": "markdown",
   "id": "322abbfa",
   "metadata": {
    "tags": [
     "analysis-5"
    ]
   },
   "source": [
    "### Climate Influence on Technologies\n",
    "\n",
    "How does the climate affect the generation of the associated technologies?\n",
    "\n",
    "Eolic energy generates more energy during the winter and less during the summer months, while photovoltaic solar works the other way around."
   ]
  },
  {
   "attachments": {},
   "cell_type": "markdown",
   "id": "c2244ec5",
   "metadata": {},
   "source": [
    "<figure>\n",
    "    <img width=\"500px\" src=\"http://d1n5ro6hvutr5y.cloudfront.net/Energy/01_Country Portfolio Analysis/02_Generation/en/06_plot_climate-renewable-season.png\" alt=\" \">\n",
    "    <figcaption>Figure 5. Comparing Eolic and Photovoltaic Solar energy generation by month | <a href=\"https://plotly.com/~jsulopzs/412/\">Interactive Chart</a></figcaption>\n",
    "</figure>"
   ]
  },
  {
   "attachments": {},
   "cell_type": "markdown",
   "id": "90c65246",
   "metadata": {},
   "source": [
    "## Conclusion\n",
    "\n",
    "Aggregating the raw data (96,360 points of information) across the groups provided offers a unique insight into how energy generation works in a country during one year.\n",
    "\n",
    "It is clear that, depending on the season, the technologies behave differently both in months and hours.\n",
    "\n",
    "Summer favors Solar generation, while winter favors Eolic.\n",
    "\n",
    "However, it is not enough to rely upon renewable energy sources because they don't have a tap to generate energy when demands growth and there are no more hours of sun.\n",
    "\n",
    "Although there is room for renewable energy growth because more Solar Thermal energy could be supplied in months like September as the Sun hits harder due to climate change; replacing some of the energy that Combined Cycle produces."
   ]
  },
  {
   "attachments": {},
   "cell_type": "markdown",
   "id": "9996680d",
   "metadata": {
    "tags": [
     "cta-2"
    ]
   },
   "source": [
    "## Next Steps\n",
    "\n",
    "### Tutorial\n",
    "\n",
    "Power your professional career with programming and data analysis.\n",
    "\n",
    "<a href=\"https://datons.gumroad.com/l/energy-generation-by-technology-in-spain\"><button>Learn Data Programming</button></a>\n",
    "\n",
    "### `datons.stories`\n",
    "\n",
    "Learn how the world works with data stories.\n",
    "\n",
    "<a href=\"https://bootcamps.datons.ai/stories\"><button>More Information</button></a>"
   ]
  }
 ],
 "metadata": {
  "Author": "Jesús López",
  "Company": "www.datons.ai",
  "Copyright": "© 2023 Jesús López",
  "kernelspec": {
   "display_name": "Python 3 (ipykernel)",
   "language": "python",
   "name": "python3"
  },
  "language_info": {
   "codemirror_mode": {
    "name": "ipython",
    "version": 3
   },
   "file_extension": ".py",
   "mimetype": "text/x-python",
   "name": "python",
   "nbconvert_exporter": "python",
   "pygments_lexer": "ipython3",
   "version": "3.12.0"
  }
 },
 "nbformat": 4,
 "nbformat_minor": 5
}
